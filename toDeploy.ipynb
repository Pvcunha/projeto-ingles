{
  "cells": [
    {
      "cell_type": "code",
      "execution_count": 1,
      "metadata": {
        "colab": {
          "base_uri": "https://localhost:8080/",
          "height": 35
        },
        "id": "MSti2nBiUQV6",
        "outputId": "40fff5db-7e50-4775-f818-ebf53a82ddff"
      },
      "outputs": [
        {
          "data": {
            "application/vnd.google.colaboratory.intrinsic+json": {
              "type": "string"
            },
            "text/plain": [
              "'! [ -e /content ] && pip install -Uqq fastbook\\nimport fastbook\\nfastbook.setup_book()'"
            ]
          },
          "execution_count": 1,
          "metadata": {},
          "output_type": "execute_result"
        }
      ],
      "source": [
        "#! [ -e /content ] && pip install -Uqq fastbook\n",
        "#import fastbook\n",
        "#fastbook.setup_book()"
      ]
    },
    {
      "cell_type": "code",
      "execution_count": 2,
      "metadata": {
        "id": "eaqGCyVZMvlt"
      },
      "outputs": [],
      "source": [
        "from fastai.vision.all import *\n",
        "from fastai.vision.widgets import *"
      ]
    },
    {
      "cell_type": "markdown",
      "metadata": {
        "id": "Vmwd_cGCONeK"
      },
      "source": [
        "# The bear classifier"
      ]
    },
    {
      "cell_type": "code",
      "execution_count": 3,
      "metadata": {
        "id": "VjFUsUhhOQ4w"
      },
      "outputs": [],
      "source": [
        "path = Path()\n",
        "\n",
        "btn_run = widgets.Button(description='Classify')\n",
        "lbl_pred = widgets.Label()\n",
        "btn_upload = widgets.FileUpload()\n",
        "out_pl = widgets.Output()"
      ]
    },
    {
      "cell_type": "code",
      "execution_count": 4,
      "metadata": {
        "id": "60OfhTl7XMrD"
      },
      "outputs": [],
      "source": [
        "learn_inf = load_learner(path/'export.pkl')\n",
        "#learn_inf.predict('black_teddy.jpg')"
      ]
    },
    {
      "cell_type": "code",
      "execution_count": 5,
      "metadata": {
        "id": "x0b7LTHGOZoU"
      },
      "outputs": [],
      "source": [
        "def on_click_classify(change):\n",
        "  img = PILImage.create(btn_upload.data[-1])\n",
        "  out_pl.clear_output()\n",
        "  with out_pl: display(img.to_thumb(128,128))\n",
        "  pred,pred_idx,probs = learn_inf.predict(img)\n",
        "  lbl_pred.value = f'Prediction: {pred}; Probability: {probs[pred_idx]:.04f}'\n",
        "  print(lbl_pred.value)\n",
        "\n",
        "btn_run.on_click(on_click_classify)"
      ]
    },
    {
      "cell_type": "code",
      "execution_count": 6,
      "metadata": {
        "colab": {
          "base_uri": "https://localhost:8080/",
          "height": 290,
          "referenced_widgets": [
            "4600b2603cd4445498766c2382527df1",
            "3441eee5f03b4ded8c6d1abfa0231baa",
            "4d79252930c7408e8fcdc8e69d4205a0",
            "a5989e2434c949158549c23b5c27c079",
            "1770ab6262af487f87298eb4a340c8a8",
            "4ab026894a484c72a8bc9950857c107d",
            "655d8712b0784ae5b31fea9c211e2878",
            "9dc14947d67f4f8798d88095a4ce21c2",
            "5417eb0ccfa4430485020507ba1622f0",
            "8a7ee57d55184a7b8c573719913f7fdc",
            "3a9e24d88f95486d853ea980b261e37e",
            "b68ac5d236b74f0da7411fa279efdc7b",
            "f75256ab69294a4e9dad8c192d6d9757",
            "f81c02202a6e4a88820c593d5b1db8bb",
            "30a7eb3e62d44633b59289ab484154e2",
            "4d36b8a49a6048dc8a100ba423711fa1"
          ]
        },
        "id": "hKV-6IxBOq4C",
        "outputId": "085c6de5-fd8a-43fe-dfed-d0a5609cbc20"
      },
      "outputs": [
        {
          "data": {
            "application/vnd.jupyter.widget-view+json": {
              "model_id": "4600b2603cd4445498766c2382527df1",
              "version_major": 2,
              "version_minor": 0
            },
            "text/plain": [
              "VBox(children=(Label(value='Select your bear!'), FileUpload(value={}, description='Upload'), Button(descriptio…"
            ]
          },
          "metadata": {},
          "output_type": "display_data"
        },
        {
          "data": {
            "text/html": [
              "\n",
              "<style>\n",
              "    /* Turns off some styling */\n",
              "    progress {\n",
              "        /* gets rid of default border in Firefox and Opera. */\n",
              "        border: none;\n",
              "        /* Needs to be in here for Safari polyfill so background images work as expected. */\n",
              "        background-size: auto;\n",
              "    }\n",
              "    .progress-bar-interrupted, .progress-bar-interrupted::-webkit-progress-bar {\n",
              "        background: #F44336;\n",
              "    }\n",
              "</style>\n"
            ],
            "text/plain": [
              "<IPython.core.display.HTML object>"
            ]
          },
          "metadata": {},
          "output_type": "display_data"
        },
        {
          "data": {
            "text/html": [],
            "text/plain": [
              "<IPython.core.display.HTML object>"
            ]
          },
          "metadata": {},
          "output_type": "display_data"
        },
        {
          "name": "stdout",
          "output_type": "stream",
          "text": [
            "Prediction: teddy; Probability: 1.0000\n"
          ]
        }
      ],
      "source": [
        "VBox([widgets.Label('Select your dog!'), btn_upload, btn_run, out_pl, lbl_pred])"
      ]
    }
  ],
  "metadata": {
    "colab": {
      "collapsed_sections": [],
      "name": "toDeploy.ipynb",
      "provenance": []
    },
    "kernelspec": {
      "display_name": "Python 3",
      "name": "python3"
    },
    "language_info": {
      "name": "python"
    },
    "widgets": {
      "application/vnd.jupyter.widget-state+json": {
        "1770ab6262af487f87298eb4a340c8a8": {
          "model_module": "@jupyter-widgets/output",
          "model_module_version": "1.0.0",
          "model_name": "OutputModel",
          "state": {
            "_dom_classes": [],
            "_model_module": "@jupyter-widgets/output",
            "_model_module_version": "1.0.0",
            "_model_name": "OutputModel",
            "_view_count": null,
            "_view_module": "@jupyter-widgets/output",
            "_view_module_version": "1.0.0",
            "_view_name": "OutputView",
            "layout": "IPY_MODEL_4d36b8a49a6048dc8a100ba423711fa1",
            "msg_id": "",
            "outputs": [
              {
                "data": {
                  "image/png": "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\n",
                  "text/plain": "<PIL.Image.Image image mode=RGB size=128x128 at 0x7F8199986E90>"
                },
                "metadata": {},
                "output_type": "display_data"
              }
            ]
          }
        },
        "30a7eb3e62d44633b59289ab484154e2": {
          "model_module": "@jupyter-widgets/controls",
          "model_module_version": "1.5.0",
          "model_name": "DescriptionStyleModel",
          "state": {
            "_model_module": "@jupyter-widgets/controls",
            "_model_module_version": "1.5.0",
            "_model_name": "DescriptionStyleModel",
            "_view_count": null,
            "_view_module": "@jupyter-widgets/base",
            "_view_module_version": "1.2.0",
            "_view_name": "StyleView",
            "description_width": ""
          }
        },
        "3441eee5f03b4ded8c6d1abfa0231baa": {
          "model_module": "@jupyter-widgets/controls",
          "model_module_version": "1.5.0",
          "model_name": "LabelModel",
          "state": {
            "_dom_classes": [],
            "_model_module": "@jupyter-widgets/controls",
            "_model_module_version": "1.5.0",
            "_model_name": "LabelModel",
            "_view_count": null,
            "_view_module": "@jupyter-widgets/controls",
            "_view_module_version": "1.5.0",
            "_view_name": "LabelView",
            "description": "",
            "description_tooltip": null,
            "layout": "IPY_MODEL_9dc14947d67f4f8798d88095a4ce21c2",
            "placeholder": "​",
            "style": "IPY_MODEL_5417eb0ccfa4430485020507ba1622f0",
            "value": "Select your bear!"
          }
        },
        "3a9e24d88f95486d853ea980b261e37e": {
          "model_module": "@jupyter-widgets/controls",
          "model_module_version": "1.5.0",
          "model_name": "ButtonStyleModel",
          "state": {
            "_model_module": "@jupyter-widgets/controls",
            "_model_module_version": "1.5.0",
            "_model_name": "ButtonStyleModel",
            "_view_count": null,
            "_view_module": "@jupyter-widgets/base",
            "_view_module_version": "1.2.0",
            "_view_name": "StyleView",
            "button_color": null,
            "font_weight": ""
          }
        },
        "4600b2603cd4445498766c2382527df1": {
          "model_module": "@jupyter-widgets/controls",
          "model_module_version": "1.5.0",
          "model_name": "VBoxModel",
          "state": {
            "_dom_classes": [],
            "_model_module": "@jupyter-widgets/controls",
            "_model_module_version": "1.5.0",
            "_model_name": "VBoxModel",
            "_view_count": null,
            "_view_module": "@jupyter-widgets/controls",
            "_view_module_version": "1.5.0",
            "_view_name": "VBoxView",
            "box_style": "",
            "children": [
              "IPY_MODEL_3441eee5f03b4ded8c6d1abfa0231baa",
              "IPY_MODEL_4d79252930c7408e8fcdc8e69d4205a0",
              "IPY_MODEL_a5989e2434c949158549c23b5c27c079",
              "IPY_MODEL_1770ab6262af487f87298eb4a340c8a8",
              "IPY_MODEL_4ab026894a484c72a8bc9950857c107d"
            ],
            "layout": "IPY_MODEL_655d8712b0784ae5b31fea9c211e2878"
          }
        },
        "4ab026894a484c72a8bc9950857c107d": {
          "model_module": "@jupyter-widgets/controls",
          "model_module_version": "1.5.0",
          "model_name": "LabelModel",
          "state": {
            "_dom_classes": [],
            "_model_module": "@jupyter-widgets/controls",
            "_model_module_version": "1.5.0",
            "_model_name": "LabelModel",
            "_view_count": null,
            "_view_module": "@jupyter-widgets/controls",
            "_view_module_version": "1.5.0",
            "_view_name": "LabelView",
            "description": "",
            "description_tooltip": null,
            "layout": "IPY_MODEL_f81c02202a6e4a88820c593d5b1db8bb",
            "placeholder": "​",
            "style": "IPY_MODEL_30a7eb3e62d44633b59289ab484154e2",
            "value": "Prediction: teddy; Probability: 1.0000"
          }
        },
        "4d36b8a49a6048dc8a100ba423711fa1": {
          "model_module": "@jupyter-widgets/base",
          "model_module_version": "1.2.0",
          "model_name": "LayoutModel",
          "state": {
            "_model_module": "@jupyter-widgets/base",
            "_model_module_version": "1.2.0",
            "_model_name": "LayoutModel",
            "_view_count": null,
            "_view_module": "@jupyter-widgets/base",
            "_view_module_version": "1.2.0",
            "_view_name": "LayoutView",
            "align_content": null,
            "align_items": null,
            "align_self": null,
            "border": null,
            "bottom": null,
            "display": null,
            "flex": null,
            "flex_flow": null,
            "grid_area": null,
            "grid_auto_columns": null,
            "grid_auto_flow": null,
            "grid_auto_rows": null,
            "grid_column": null,
            "grid_gap": null,
            "grid_row": null,
            "grid_template_areas": null,
            "grid_template_columns": null,
            "grid_template_rows": null,
            "height": null,
            "justify_content": null,
            "justify_items": null,
            "left": null,
            "margin": null,
            "max_height": null,
            "max_width": null,
            "min_height": null,
            "min_width": null,
            "object_fit": null,
            "object_position": null,
            "order": null,
            "overflow": null,
            "overflow_x": null,
            "overflow_y": null,
            "padding": null,
            "right": null,
            "top": null,
            "visibility": null,
            "width": null
          }
        },
        "4d79252930c7408e8fcdc8e69d4205a0": {
          "model_module": "@jupyter-widgets/controls",
          "model_module_version": "1.5.0",
          "model_name": "FileUploadModel",
          "state": {
            "_counter": 1,
            "_dom_classes": [],
            "_model_module": "@jupyter-widgets/controls",
            "_model_module_version": "1.5.0",
            "_model_name": "FileUploadModel",
            "_view_count": null,
            "_view_module": "@jupyter-widgets/controls",
            "_view_module_version": "1.5.0",
            "_view_name": "FileUploadView",
            "accept": "",
            "button_style": "",
            "data": [
              null
            ],
            "description": "Upload",
            "description_tooltip": null,
            "disabled": false,
            "error": "",
            "icon": "upload",
            "layout": "IPY_MODEL_8a7ee57d55184a7b8c573719913f7fdc",
            "metadata": [
              {
                "lastModified": 1652564232925,
                "name": "black_teddy.jpg",
                "size": 400267,
                "type": "image/jpeg"
              }
            ],
            "multiple": false,
            "style": "IPY_MODEL_3a9e24d88f95486d853ea980b261e37e"
          }
        },
        "5417eb0ccfa4430485020507ba1622f0": {
          "model_module": "@jupyter-widgets/controls",
          "model_module_version": "1.5.0",
          "model_name": "DescriptionStyleModel",
          "state": {
            "_model_module": "@jupyter-widgets/controls",
            "_model_module_version": "1.5.0",
            "_model_name": "DescriptionStyleModel",
            "_view_count": null,
            "_view_module": "@jupyter-widgets/base",
            "_view_module_version": "1.2.0",
            "_view_name": "StyleView",
            "description_width": ""
          }
        },
        "655d8712b0784ae5b31fea9c211e2878": {
          "model_module": "@jupyter-widgets/base",
          "model_module_version": "1.2.0",
          "model_name": "LayoutModel",
          "state": {
            "_model_module": "@jupyter-widgets/base",
            "_model_module_version": "1.2.0",
            "_model_name": "LayoutModel",
            "_view_count": null,
            "_view_module": "@jupyter-widgets/base",
            "_view_module_version": "1.2.0",
            "_view_name": "LayoutView",
            "align_content": null,
            "align_items": null,
            "align_self": null,
            "border": null,
            "bottom": null,
            "display": null,
            "flex": null,
            "flex_flow": null,
            "grid_area": null,
            "grid_auto_columns": null,
            "grid_auto_flow": null,
            "grid_auto_rows": null,
            "grid_column": null,
            "grid_gap": null,
            "grid_row": null,
            "grid_template_areas": null,
            "grid_template_columns": null,
            "grid_template_rows": null,
            "height": null,
            "justify_content": null,
            "justify_items": null,
            "left": null,
            "margin": null,
            "max_height": null,
            "max_width": null,
            "min_height": null,
            "min_width": null,
            "object_fit": null,
            "object_position": null,
            "order": null,
            "overflow": null,
            "overflow_x": null,
            "overflow_y": null,
            "padding": null,
            "right": null,
            "top": null,
            "visibility": null,
            "width": null
          }
        },
        "8a7ee57d55184a7b8c573719913f7fdc": {
          "model_module": "@jupyter-widgets/base",
          "model_module_version": "1.2.0",
          "model_name": "LayoutModel",
          "state": {
            "_model_module": "@jupyter-widgets/base",
            "_model_module_version": "1.2.0",
            "_model_name": "LayoutModel",
            "_view_count": null,
            "_view_module": "@jupyter-widgets/base",
            "_view_module_version": "1.2.0",
            "_view_name": "LayoutView",
            "align_content": null,
            "align_items": null,
            "align_self": null,
            "border": null,
            "bottom": null,
            "display": null,
            "flex": null,
            "flex_flow": null,
            "grid_area": null,
            "grid_auto_columns": null,
            "grid_auto_flow": null,
            "grid_auto_rows": null,
            "grid_column": null,
            "grid_gap": null,
            "grid_row": null,
            "grid_template_areas": null,
            "grid_template_columns": null,
            "grid_template_rows": null,
            "height": null,
            "justify_content": null,
            "justify_items": null,
            "left": null,
            "margin": null,
            "max_height": null,
            "max_width": null,
            "min_height": null,
            "min_width": null,
            "object_fit": null,
            "object_position": null,
            "order": null,
            "overflow": null,
            "overflow_x": null,
            "overflow_y": null,
            "padding": null,
            "right": null,
            "top": null,
            "visibility": null,
            "width": null
          }
        },
        "9dc14947d67f4f8798d88095a4ce21c2": {
          "model_module": "@jupyter-widgets/base",
          "model_module_version": "1.2.0",
          "model_name": "LayoutModel",
          "state": {
            "_model_module": "@jupyter-widgets/base",
            "_model_module_version": "1.2.0",
            "_model_name": "LayoutModel",
            "_view_count": null,
            "_view_module": "@jupyter-widgets/base",
            "_view_module_version": "1.2.0",
            "_view_name": "LayoutView",
            "align_content": null,
            "align_items": null,
            "align_self": null,
            "border": null,
            "bottom": null,
            "display": null,
            "flex": null,
            "flex_flow": null,
            "grid_area": null,
            "grid_auto_columns": null,
            "grid_auto_flow": null,
            "grid_auto_rows": null,
            "grid_column": null,
            "grid_gap": null,
            "grid_row": null,
            "grid_template_areas": null,
            "grid_template_columns": null,
            "grid_template_rows": null,
            "height": null,
            "justify_content": null,
            "justify_items": null,
            "left": null,
            "margin": null,
            "max_height": null,
            "max_width": null,
            "min_height": null,
            "min_width": null,
            "object_fit": null,
            "object_position": null,
            "order": null,
            "overflow": null,
            "overflow_x": null,
            "overflow_y": null,
            "padding": null,
            "right": null,
            "top": null,
            "visibility": null,
            "width": null
          }
        },
        "a5989e2434c949158549c23b5c27c079": {
          "model_module": "@jupyter-widgets/controls",
          "model_module_version": "1.5.0",
          "model_name": "ButtonModel",
          "state": {
            "_dom_classes": [],
            "_model_module": "@jupyter-widgets/controls",
            "_model_module_version": "1.5.0",
            "_model_name": "ButtonModel",
            "_view_count": null,
            "_view_module": "@jupyter-widgets/controls",
            "_view_module_version": "1.5.0",
            "_view_name": "ButtonView",
            "button_style": "",
            "description": "Classify",
            "disabled": false,
            "icon": "",
            "layout": "IPY_MODEL_b68ac5d236b74f0da7411fa279efdc7b",
            "style": "IPY_MODEL_f75256ab69294a4e9dad8c192d6d9757",
            "tooltip": ""
          }
        },
        "b68ac5d236b74f0da7411fa279efdc7b": {
          "model_module": "@jupyter-widgets/base",
          "model_module_version": "1.2.0",
          "model_name": "LayoutModel",
          "state": {
            "_model_module": "@jupyter-widgets/base",
            "_model_module_version": "1.2.0",
            "_model_name": "LayoutModel",
            "_view_count": null,
            "_view_module": "@jupyter-widgets/base",
            "_view_module_version": "1.2.0",
            "_view_name": "LayoutView",
            "align_content": null,
            "align_items": null,
            "align_self": null,
            "border": null,
            "bottom": null,
            "display": null,
            "flex": null,
            "flex_flow": null,
            "grid_area": null,
            "grid_auto_columns": null,
            "grid_auto_flow": null,
            "grid_auto_rows": null,
            "grid_column": null,
            "grid_gap": null,
            "grid_row": null,
            "grid_template_areas": null,
            "grid_template_columns": null,
            "grid_template_rows": null,
            "height": null,
            "justify_content": null,
            "justify_items": null,
            "left": null,
            "margin": null,
            "max_height": null,
            "max_width": null,
            "min_height": null,
            "min_width": null,
            "object_fit": null,
            "object_position": null,
            "order": null,
            "overflow": null,
            "overflow_x": null,
            "overflow_y": null,
            "padding": null,
            "right": null,
            "top": null,
            "visibility": null,
            "width": null
          }
        },
        "f75256ab69294a4e9dad8c192d6d9757": {
          "model_module": "@jupyter-widgets/controls",
          "model_module_version": "1.5.0",
          "model_name": "ButtonStyleModel",
          "state": {
            "_model_module": "@jupyter-widgets/controls",
            "_model_module_version": "1.5.0",
            "_model_name": "ButtonStyleModel",
            "_view_count": null,
            "_view_module": "@jupyter-widgets/base",
            "_view_module_version": "1.2.0",
            "_view_name": "StyleView",
            "button_color": null,
            "font_weight": ""
          }
        },
        "f81c02202a6e4a88820c593d5b1db8bb": {
          "model_module": "@jupyter-widgets/base",
          "model_module_version": "1.2.0",
          "model_name": "LayoutModel",
          "state": {
            "_model_module": "@jupyter-widgets/base",
            "_model_module_version": "1.2.0",
            "_model_name": "LayoutModel",
            "_view_count": null,
            "_view_module": "@jupyter-widgets/base",
            "_view_module_version": "1.2.0",
            "_view_name": "LayoutView",
            "align_content": null,
            "align_items": null,
            "align_self": null,
            "border": null,
            "bottom": null,
            "display": null,
            "flex": null,
            "flex_flow": null,
            "grid_area": null,
            "grid_auto_columns": null,
            "grid_auto_flow": null,
            "grid_auto_rows": null,
            "grid_column": null,
            "grid_gap": null,
            "grid_row": null,
            "grid_template_areas": null,
            "grid_template_columns": null,
            "grid_template_rows": null,
            "height": null,
            "justify_content": null,
            "justify_items": null,
            "left": null,
            "margin": null,
            "max_height": null,
            "max_width": null,
            "min_height": null,
            "min_width": null,
            "object_fit": null,
            "object_position": null,
            "order": null,
            "overflow": null,
            "overflow_x": null,
            "overflow_y": null,
            "padding": null,
            "right": null,
            "top": null,
            "visibility": null,
            "width": null
          }
        }
      }
    }
  },
  "nbformat": 4,
  "nbformat_minor": 0
}
